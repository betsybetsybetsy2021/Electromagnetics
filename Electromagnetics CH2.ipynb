{
 "cells": [
  {
   "cell_type": "markdown",
   "id": "3cae4200-749b-405c-8151-0b6685c1ba31",
   "metadata": {},
   "source": [
    "__Electromagnetics, Fifth Edition by Fawwaz T. Ulany___\n",
    "__Chapter 2 Transmission Lines__</br>"
   ]
  },
  {
   "cell_type": "markdown",
   "id": "7cd08deb-862a-4138-969e-44cc9a61cff6",
   "metadata": {
    "execution": {
     "iopub.execute_input": "2023-09-23T22:37:14.951542Z",
     "iopub.status.busy": "2023-09-23T22:37:14.951178Z",
     "iopub.status.idle": "2023-09-23T22:37:14.957355Z",
     "shell.execute_reply": "2023-09-23T22:37:14.956157Z",
     "shell.execute_reply.started": "2023-09-23T22:37:14.951514Z"
    }
   },
   "source": [
    "My undergrad transmission line problems required triple integrals.  These are meant for non-engineers.  I am a REAL electrical engineer."
   ]
  },
  {
   "cell_type": "markdown",
   "id": "c4426d44-dc22-44f5-b2c8-6bd6808779ae",
   "metadata": {},
   "source": [
    "__Exercise 2.1__\n",
    "Use Table 2-1 to compute the line parameters of a two-wire air line whose wires are separated by a distance of 2 cm, and each is 1mm in radius.  The wires may be treated as perfect conductors with $\\sigma_c = \\infty$"
   ]
  },
  {
   "cell_type": "markdown",
   "id": "8fc17f79-bc8c-44c2-9e2d-cdaf818f962f",
   "metadata": {},
   "source": [
    "$d = 2cm =0.02 m$<\\br>\n",
    "$\\sigma_C = \\infty $<\\br>\n",
    "$a = 1 mm = 1 x 10^{-3} m$<\\br>\n",
    "$\\mu_{air} =4\\pi x 10^{-7}$<\\br>\n",
    "$\\epsilon = 8.854 x 10^{-12}$"
   ]
  },
  {
   "cell_type": "markdown",
   "id": "2ff59adb-64d7-4c5f-a26c-d4d0b065003f",
   "metadata": {},
   "source": [
    "$R' = \\frac{R_s}{πa}$\n",
    "\n",
    "$R_s = \\sqrt{πf\\mu_c/\\sigma_c}$\n",
    "\n",
    "As $\\sigma_c$ approaches infinity, $R_s$ approaches 0.  Thus $R_s$ and $R'$ can be approximated as zero.\n",
    "\n",
    "$R' = 0$\n",
    "\n",
    "$L' = \\frac{u}{π} ln | \\frac{d}{2a} + \\sqrt{(\\frac{d}{2a})^2 - 1 } | $\n"
   ]
  },
  {
   "cell_type": "markdown",
   "id": "f4c15ae3-e025-437e-8cbd-43f3673ae362",
   "metadata": {},
   "source": [
    "$\\frac{d}{2a} = \\frac{0.02 m}{2(1x10^{-3}m)} = 10 $\n",
    "Therefore\n",
    "</br>\n",
    "$ln |\\frac{d}{2a} +\\sqrt{\\frac{d}{2a}-1}| =$\n",
    "<\\br>\n",
    "$ ln |10 + \\sqrt{99}| = ln |19| = 2.99$\n",
    "</br>\n",
    "$L' = \\frac{(4π×10^{-7})}{π} ln |19|= 1.2 x10^-6 = 1.2 \\mu H/m $"
   ]
  },
  {
   "cell_type": "markdown",
   "id": "40f2a4da-4091-4c13-9b51-7596656d1a5b",
   "metadata": {},
   "source": [
    "$G' = \\frac{π\\sigma}{ln|\\frac{d}{2a} + \\sqrt{\\frac{d}{2a}}|}$\n",
    "</br>\n",
    "While $\\sigma_c = \\infty $\n",
    "the medium between the conductors is air with $\\sigma_{air} = 0$\n",
    "</br>\n",
    "Thus $G' = 0$"
   ]
  },
  {
   "cell_type": "markdown",
   "id": "85924b67-132d-49d0-b57a-0c1e7da2a901",
   "metadata": {},
   "source": [
    "\n",
    "\n",
    "\n",
    "\n",
    "\n",
    "\n",
    "$C' = \\frac{π\\sigma}{ln|\\frac{d}{2a} + \\sqrt{\\frac{d}{2a}^2 - 1}|}$\n",
    "\n",
    "$C' = \\frac{π×(8.854×10^{-12} F/m)}{ln|19|} = 9.29 × 10^-12 F/m = 9.29 pF/m$"
   ]
  },
  {
   "cell_type": "markdown",
   "id": "a4364c43-072c-424a-aba4-b247891d3e2d",
   "metadata": {},
   "source": [
    "__Exercise 2.2__</br>\n",
    "Calculate the transmission line parameters at 1 MHz for a rigid coaxial air line with an inner conductor diameter of 0.6 cm and an outer conductor diameter of 1.2 cm.  The conductors are made of copper.\n",
    "\n",
    "$a = 1.2 cm = 12 × 10^{-3} m$ \n",
    "</br>\n",
    "$b = 0.6 cm = 6 × 10^{-3} m$ </br>\n",
    "$\\mu_{copper} = 4π×10^{-7}$\n",
    "$\\sigma_{copper} = 5.8×10^7$\n",
    "$f= 1×10^6 Hz$"
   ]
  },
  {
   "cell_type": "markdown",
   "id": "15b0c256-dbc6-4937-833d-b0164ca5907a",
   "metadata": {},
   "source": [
    "$R' = \\frac{R_s}{2π}(\\frac{1}{a} + \\frac{1}{b})$\n",
    "\n",
    "$(\\frac {1}{a} + \\frac {1}{b}) = 250$\n",
    "\n",
    "$R' = \\frac{250 R_s}{2π} = \\frac{125 R_s}{π}$\n",
    "\n",
    "$R_s = \\sqrt{πf\\mu_c/\\sigma_c}$\n",
    "\n",
    "$R_s = \\sqrt{ \\frac{π×10^6×(4π×10^-7)}{5.8×10^7} } = 2.6 × 10^{-4}$ \n",
    "\n",
    "$R' = \\frac{125}{π} (2.6 ×10^-4) = 1.038 × 10^{-2} Ω / m$\n",
    "\n",
    "****** The book gives an answer of 2.08 Ω/m but I have tried triple checked and never come up with this figure**** check again later with fresh eyes\n",
    "\n"
   ]
  },
  {
   "cell_type": "markdown",
   "id": "49156af3-f30c-413a-b2aa-57406411a674",
   "metadata": {},
   "source": [
    "$G' = \\frac{2π\\sigma}{ln|\\frac{b}{a}}| $ </br>\n",
    "Since air line, $\\sigma = 0$\n",
    "</br>\n",
    "$G' = 0$"
   ]
  },
  {
   "cell_type": "markdown",
   "id": "8e06b1c0-d204-496e-be5d-cf1c3114c58b",
   "metadata": {},
   "source": [
    "$C' = \\frac{2π×(8.854×10^{-12})}{ln|\\frac{1}{2}|} $$=\n",
    "80.259 × 10^{-12}$"
   ]
  },
  {
   "cell_type": "markdown",
   "id": "30ed5cd1-bb1a-4d7c-b5ce-1a0e0a8f82b4",
   "metadata": {},
   "source": [
    "$ L' = \\frac{\\mu}{2π} ln|\\frac{b}{a}|$\n",
    "\n",
    "For air line, $\\mu = 4π×10^7$\n",
    "\n",
    "$L' = \\frac{4π×10-7}{2π} ln |\\frac{1}{2}|$\n",
    "\n",
    "$L' = .138 × 10-6 H/m = .138 \\mu H/m$"
   ]
  },
  {
   "cell_type": "markdown",
   "id": "5f49a962-9642-4fce-98b8-861ccefb6ab3",
   "metadata": {},
   "source": [
    "__Exercise 2.5__\n",
    "For a lossless transmission line, $\\lambda = 20.7$ cm at 1 GHz, find $\\epsilon_r$ of the insulating material \n",
    "<\\br>\n",
    "From p.54\n",
    "<\\br>\n",
    "$\\mu_p = \\frac{1}{\\sqrt{\\mu_0 \\epsilon_0 \\epsilon_r}}$"
   ]
  },
  {
   "cell_type": "markdown",
   "id": "c77dda77-fbe7-4c4f-a28c-aa82f917b218",
   "metadata": {},
   "source": [
    "$\\epsilon_r = \\frac{1}{\\mu_0 \\epsilon_0 (\\mu_p^2)}$"
   ]
  },
  {
   "cell_type": "markdown",
   "id": "08077ce4-e37e-4807-9ffc-55718c97fc88",
   "metadata": {},
   "source": [
    "$\\epsilon_r = 2.097$"
   ]
  },
  {
   "cell_type": "markdown",
   "id": "fe3efa58-cc65-4d7d-9786-a73416f3ee47",
   "metadata": {},
   "source": [
    "__Exercise 2.6__\n",
    "A lossless transmission line uses a dielectric insulating material with $\\epsilon_r = 4$.  If its line capacitance is $C' = 10 (pF/m)$, find (a) the phase velocity $\\mu_p$, (b) the line inductance $L'$, and (c) the characteristic impedance $Z_0$.\n",
    "\n",
    "$\\mu_p = \\frac{1}{\\sqrt{L'C'}}$ $\\rightarrow L' = \\frac{1}{(\\mu_p)^2C'}$\n"
   ]
  },
  {
   "cell_type": "markdown",
   "id": "5ccbecdf-d87a-4fa9-96f2-a559f1362b23",
   "metadata": {},
   "source": [
    "$L' = 4.45 x 10^{-6} = 4.45 \\mu H/m$"
   ]
  },
  {
   "cell_type": "markdown",
   "id": "6df84b2f-b3cb-439b-8f1a-57304dde6c6e",
   "metadata": {},
   "source": [
    "$Z_0 = \\sqrt {\\frac{L'}{C'} } = 667.12 Ω$"
   ]
  },
  {
   "cell_type": "markdown",
   "id": "79537a7b-834f-4e92-bb3e-1d8016053c03",
   "metadata": {},
   "source": [
    "__Review Question 2.5__\n",
    "</br>\n",
    "The attenuation constant $\\alpha$ represents ohmic losses.  In the view of the model given in Figure 2-6(c), what should R' and G' be in order to have no losses? Verify your expectation through the expression for $\\alpha$. \n",
    "\n"
   ]
  },
  {
   "cell_type": "code",
   "execution_count": null,
   "id": "2bb6fe53-f228-4d96-a630-98224ff92c33",
   "metadata": {},
   "outputs": [],
   "source": []
  }
 ],
 "metadata": {
  "kernelspec": {
   "display_name": "saturn (Python 3)",
   "language": "python",
   "name": "python3"
  },
  "language_info": {
   "codemirror_mode": {
    "name": "ipython",
    "version": 3
   },
   "file_extension": ".py",
   "mimetype": "text/x-python",
   "name": "python",
   "nbconvert_exporter": "python",
   "pygments_lexer": "ipython3",
   "version": "3.9.15"
  }
 },
 "nbformat": 4,
 "nbformat_minor": 5
}
