{
 "cells": [
  {
   "cell_type": "markdown",
   "id": "9c47cf12-9c35-4f0c-8710-b9491c1a49f5",
   "metadata": {},
   "source": [
    "__Fundamentals of Applied Electromagnetics\n",
    "by Fawwaz T. Ulaby\n",
    "Chapter 4 - Electrostatics__"
   ]
  },
  {
   "cell_type": "markdown",
   "id": "5cdedc43-58c8-4ad0-a420-dd72080fe731",
   "metadata": {},
   "source": [
    "__Exercise 4.10__\n",
    "Determine the electric potential at the origin in free space due to four charges of $20 \\mu C$ each located at the corners of a square in the x-y planeand whose center is at the origin.  The square has sides of 2m each."
   ]
  },
  {
   "cell_type": "markdown",
   "id": "a6a10089-031b-4977-9ab8-218d8ff2e35e",
   "metadata": {},
   "source": [
    "From equation 4.44, \n",
    "$$ E = R \\frac{q}{4 \\pi \\epsilon R^2} (V/m) $$\n",
    "\n",
    "From the Pythagoras Theorem, each point charge is $\\sqrt{2}$ m from the origin.\n",
    "\n",
    "For one point charge \n",
    "\n",
    "$E = \\sqrt{2} \\frac{20 \\mu C}{4π\\epsilon (\\sqrt{2})^2} = \\sqrt{2} \\frac{20×10^-6}{8π\\epsilon}$"
   ]
  },
  {
   "cell_type": "markdown",
   "id": "60507605-5396-4ed1-a8b9-5af26959f659",
   "metadata": {},
   "source": [
    "Since there are 4 point charges at the same distance the E can be added resulting in:\n",
    "\n",
    "\n",
    "\n",
    "$ E = \\sqrt{2} \\frac{80×10-6}{8π\\epsilon} = \\frac{\\sqrt {2} x 10^-5}{π\\epsilon}$"
   ]
  },
  {
   "cell_type": "code",
   "execution_count": null,
   "id": "0d1fb27b-31dc-4ec6-abca-100037bf2836",
   "metadata": {},
   "outputs": [],
   "source": []
  }
 ],
 "metadata": {
  "kernelspec": {
   "display_name": "saturn (Python 3)",
   "language": "python",
   "name": "python3"
  },
  "language_info": {
   "codemirror_mode": {
    "name": "ipython",
    "version": 3
   },
   "file_extension": ".py",
   "mimetype": "text/x-python",
   "name": "python",
   "nbconvert_exporter": "python",
   "pygments_lexer": "ipython3",
   "version": "3.9.15"
  }
 },
 "nbformat": 4,
 "nbformat_minor": 5
}
