{
 "cells": [
  {
   "cell_type": "markdown",
   "id": "3cae4200-749b-405c-8151-0b6685c1ba31",
   "metadata": {},
   "source": [
    "__Electromagnetics, Fifth Edition by Fawwaz T. Ulany___\n",
    "__Chapter 2 Transmission Lines__</br>"
   ]
  },
  {
   "cell_type": "markdown",
   "id": "7cd08deb-862a-4138-969e-44cc9a61cff6",
   "metadata": {
    "execution": {
     "iopub.execute_input": "2023-09-23T22:37:14.951542Z",
     "iopub.status.busy": "2023-09-23T22:37:14.951178Z",
     "iopub.status.idle": "2023-09-23T22:37:14.957355Z",
     "shell.execute_reply": "2023-09-23T22:37:14.956157Z",
     "shell.execute_reply.started": "2023-09-23T22:37:14.951514Z"
    }
   },
   "source": [
    "My undergrad transmission line problems required triple integrals.  These are meant for non-engineers.  I am a REAL electrical engineer, but I have been homeless in the sim since 2018.  There was never a next home for me.  \n",
    "\n",
    "I had a laptop but pawned it for shelter.  I had a loaner laptop but it is now locked. There is no recovery that needs to happen, that has already happened but my continuing reactivity is due to being completely isolated, unloved, and living without my family which is alive.\n",
    "\n",
    "I was never a translator.  I was an engineer helping rollout software.  i hadfull access to the registry. i have already told this and no one has helped me give another explanation of my life from 2008 to 2023.  i am never going to steal tiaras ID. "
   ]
  },
  {
   "cell_type": "markdown",
   "id": "c4426d44-dc22-44f5-b2c8-6bd6808779ae",
   "metadata": {},
   "source": [
    "__Exercise 2.1__</br>\n",
    "Use Table 2-1 to compute the line parameters of a two-wire air line whose wires are separated by a distance of 2 cm, and each is 1mm in radius.  The wires may be treated as perfect conductors with $\\sigma_c = \\infty$"
   ]
  },
  {
   "cell_type": "markdown",
   "id": "8fc17f79-bc8c-44c2-9e2d-cdaf818f962f",
   "metadata": {},
   "source": [
    "$d = 2cm =0.02 m$<\\br>\n",
    "$\\sigma_C = \\infty $<\\br>\n",
    "$a = 1 mm = 1 x 10^{-3} m$<\\br>\n",
    "$\\mu_{air} =4\\pi x 10^{-7}$<\\br>\n",
    "$\\epsilon = 8.854 x 10^{-12}$"
   ]
  },
  {
   "cell_type": "markdown",
   "id": "2ff59adb-64d7-4c5f-a26c-d4d0b065003f",
   "metadata": {},
   "source": [
    "$R' = \\frac{R_s}{πa}$\n",
    "\n",
    "$R_s = \\sqrt{πf\\mu_c/\\sigma_c}$\n",
    "\n",
    "As $\\sigma_c$ approaches infinity, $R_s$ approaches 0.  Thus $R_s$ and $R'$ can be approximated as zero.\n",
    "\n",
    "$R' = 0$\n",
    "\n",
    "$L' = \\frac{u}{π} ln | \\frac{d}{2a} + \\sqrt{(\\frac{d}{2a})^2 - 1 } | $\n"
   ]
  },
  {
   "cell_type": "markdown",
   "id": "f4c15ae3-e025-437e-8cbd-43f3673ae362",
   "metadata": {},
   "source": [
    "$\\frac{d}{2a} = \\frac{0.02 m}{2(1x10^{-3}m)} = 10 $\n",
    "Therefore\n",
    "</br>\n",
    "$ln |\\frac{d}{2a} +\\sqrt{\\frac{d}{2a}-1}| =$\n",
    "<\\br>\n",
    "$ ln |10 + \\sqrt{99}| = ln |19| = 2.99$\n",
    "</br>\n",
    "$L' = \\frac{(4π×10^{-7})}{π} ln |19|= 1.2 x10^-6 = 1.2 \\mu H/m $"
   ]
  },
  {
   "cell_type": "markdown",
   "id": "40f2a4da-4091-4c13-9b51-7596656d1a5b",
   "metadata": {},
   "source": [
    "$G' = \\frac{π\\sigma}{ln|\\frac{d}{2a} + \\sqrt{\\frac{d}{2a}}|}$\n",
    "</br>\n",
    "While $\\sigma_c = \\infty $\n",
    "the medium between the conductors is air with $\\sigma_{air} = 0$\n",
    "</br>\n",
    "Thus $G' = 0$"
   ]
  },
  {
   "cell_type": "markdown",
   "id": "85924b67-132d-49d0-b57a-0c1e7da2a901",
   "metadata": {},
   "source": [
    "\n",
    "\n",
    "\n",
    "\n",
    "\n",
    "\n",
    "$C' = \\frac{π\\sigma}{ln|\\frac{d}{2a} + \\sqrt{\\frac{d}{2a}^2 - 1}|}$\n",
    "\n",
    "$C' = \\frac{π×(8.854×10^{-12} F/m)}{ln|19|} = 9.29 × 10^-12 F/m = 9.29 pF/m$"
   ]
  },
  {
   "cell_type": "markdown",
   "id": "a4364c43-072c-424a-aba4-b247891d3e2d",
   "metadata": {},
   "source": [
    "__Exercise 2.2__</br>\n",
    "Calculate the transmission line parameters at 1 MHz for a rigid coaxial air line with an inner conductor diameter of 0.6 cm and an outer conductor diameter of 1.2 cm.  The conductors are made of copper.\n",
    "\n",
    "$a = 1.2 cm = 12 × 10^{-3} m$ \n",
    "</br>\n",
    "$b = 0.6 cm = 6 × 10^{-3} m$ </br>\n",
    "$\\mu_{copper} = 4π×10^{-7}$\n",
    "$\\sigma_{copper} = 5.8×10^7$\n",
    "$f= 1×10^6 Hz$"
   ]
  },
  {
   "cell_type": "markdown",
   "id": "15b0c256-dbc6-4937-833d-b0164ca5907a",
   "metadata": {},
   "source": [
    "$R' = \\frac{R_s}{2π}(\\frac{1}{a} + \\frac{1}{b})$\n",
    "\n",
    "$(\\frac {1}{a} + \\frac {1}{b}) = 250$\n",
    "\n",
    "$R' = \\frac{250 R_s}{2π} = \\frac{125 R_s}{π}$\n",
    "\n",
    "$R_s = \\sqrt{πf\\mu_c/\\sigma_c}$\n",
    "\n",
    "$R_s = \\sqrt{ \\frac{π×10^6×(4π×10^-7)}{5.8×10^7} } = 2.6 × 10^{-4}$ \n",
    "\n",
    "$R' = \\frac{125}{π} (2.6 ×10^-4) = 1.038 × 10^{-2} Ω / m$\n",
    "\n",
    "****** The book gives an answer of 2.08 Ω/m but I have tried triple checked and never come up with this figure**** check again later with fresh eyes\n",
    "\n"
   ]
  },
  {
   "cell_type": "markdown",
   "id": "49156af3-f30c-413a-b2aa-57406411a674",
   "metadata": {},
   "source": [
    "$G' = \\frac{2π\\sigma}{ln|\\frac{b}{a}}| $ </br>\n",
    "Since air line, $\\sigma = 0$\n",
    "</br>\n",
    "$G' = 0$"
   ]
  },
  {
   "cell_type": "markdown",
   "id": "8e06b1c0-d204-496e-be5d-cf1c3114c58b",
   "metadata": {},
   "source": [
    "$C' = \\frac{2π×(8.854×10^{-12})}{ln|\\frac{1}{2}|} $$=\n",
    "80.259 × 10^{-12}$"
   ]
  },
  {
   "cell_type": "markdown",
   "id": "30ed5cd1-bb1a-4d7c-b5ce-1a0e0a8f82b4",
   "metadata": {},
   "source": [
    "$ L' = \\frac{\\mu}{2π} ln|\\frac{b}{a}|$\n",
    "\n",
    "For air line, $\\mu = 4π×10^7$\n",
    "\n",
    "$L' = \\frac{4π×10-7}{2π} ln |\\frac{1}{2}|$\n",
    "\n",
    "$L' = .138 × 10-6 H/m = .138 \\mu H/m$"
   ]
  },
  {
   "cell_type": "markdown",
   "id": "5f49a962-9642-4fce-98b8-861ccefb6ab3",
   "metadata": {},
   "source": [
    "__Exercise 2.5__\n",
    "For a lossless transmission line, $\\lambda = 20.7$ cm at 1 GHz, find $\\epsilon_r$ of the insulating material \n",
    "<\\br>\n",
    "From p.54\n",
    "<\\br>\n",
    "$\\mu_p = \\frac{1}{\\sqrt{\\mu_0 \\epsilon_0 \\epsilon_r}}$"
   ]
  },
  {
   "cell_type": "markdown",
   "id": "c77dda77-fbe7-4c4f-a28c-aa82f917b218",
   "metadata": {},
   "source": [
    "$\\epsilon_r = \\frac{1}{\\mu_0 \\epsilon_0 (\\mu_p^2)}$"
   ]
  },
  {
   "cell_type": "markdown",
   "id": "08077ce4-e37e-4807-9ffc-55718c97fc88",
   "metadata": {},
   "source": [
    "$\\epsilon_r = 2.097$"
   ]
  },
  {
   "cell_type": "markdown",
   "id": "fe3efa58-cc65-4d7d-9786-a73416f3ee47",
   "metadata": {},
   "source": [
    "__Exercise 2.6__\n",
    "A lossless transmission line uses a dielectric insulating material with $\\epsilon_r = 4$.  If its line capacitance is $C' = 10 (pF/m)$, find (a) the phase velocity $\\mu_p$, (b) the line inductance $L'$, and (c) the characteristic impedance $Z_0$.\n",
    "\n",
    "$\\mu_p = \\frac{1}{\\sqrt{L'C'}}$ $\\rightarrow L' = \\frac{1}{(\\mu_p)^2C'}$\n"
   ]
  },
  {
   "cell_type": "markdown",
   "id": "5ccbecdf-d87a-4fa9-96f2-a559f1362b23",
   "metadata": {},
   "source": [
    "$L' = 4.45 x 10^{-6} = 4.45 \\mu H/m$"
   ]
  },
  {
   "cell_type": "markdown",
   "id": "6df84b2f-b3cb-439b-8f1a-57304dde6c6e",
   "metadata": {},
   "source": [
    "$Z_0 = \\sqrt {\\frac{L'}{C'} } = 667.12 Ω$"
   ]
  },
  {
   "cell_type": "markdown",
   "id": "79537a7b-834f-4e92-bb3e-1d8016053c03",
   "metadata": {},
   "source": [
    "__Review Question 2.5__\n",
    "</br>\n",
    "The attenuation constant $\\alpha$ represents ohmic losses.  In the view of the model given in Figure 2-6(c), what should R' and G' be in order to have no losses? Verify your expectation through the expression for $\\alpha$. \n",
    "\n"
   ]
  },
  {
   "cell_type": "markdown",
   "id": "8d42cdaa-c5ba-41ab-b01c-a4215cb3477b",
   "metadata": {
    "execution": {
     "iopub.execute_input": "2023-09-24T23:55:56.155145Z",
     "iopub.status.busy": "2023-09-24T23:55:56.154558Z",
     "iopub.status.idle": "2023-09-24T23:55:56.160557Z",
     "shell.execute_reply": "2023-09-24T23:55:56.159453Z",
     "shell.execute_reply.started": "2023-09-24T23:55:56.155116Z"
    },
    "tags": []
   },
   "source": [
    "For a lossless line</br>\n",
    "$\\alpha = 0$ </br>\n",
    "$\\beta = \\omega \\sqrt{L'C'}$\n",
    "\n",
    "$\\alpha = Re(\\sqrt{(R'+j\\omega L')(G'+j\\omega C')})$\n",
    "\n",
    "For $Re(\\sqrt{(R'+j\\omega L')(G' + j\\omega C')}= 0$"
   ]
  },
  {
   "cell_type": "markdown",
   "id": "f17f681c-1f26-430c-8731-ae647b6c12e6",
   "metadata": {},
   "source": [
    "__Review Question 2.6__\n",
    "How is the wavelength \\lambda of the wave traveling on the transmission line related to the free space wavelength \\lambda_0 ?\n",
    "\n",
    "$\\lambda = \\frac{\\lambda_0}{\\sqrt{\\epsilon_r}}$\n",
    "\n",
    "where</br>\n",
    "$\\epsilon_r = $ is the relative permittivity of medium and </br>\n",
    "$\\lambda_0 =$ wavelength of air."
   ]
  },
  {
   "cell_type": "markdown",
   "id": "752d80c1-0569-4ce5-803d-59942f284368",
   "metadata": {},
   "source": [
    "__Review Question 2.7__</br>\n",
    "Why is a load matched to a line?\n",
    "Why is it important?\n",
    "\n",
    "A Load is matched to a line when $Z_0 = Z_L$ </br>\n",
    "where $Z_L$ is the load impedance and $Z_0$ is the line impedance.\n",
    "\n",
    "$V_o^- = (\\frac{Z_L-Z_o}{Z_L + Z_o})V_o^+$\n",
    "\n",
    "Matching the load to line is important because it prevents unwanted reflections."
   ]
  },
  {
   "cell_type": "markdown",
   "id": "8ed84951-897a-4854-91bf-69c4d39230bf",
   "metadata": {},
   "source": [
    "__Review Question 2.8__</br>\n",
    "What is a standing wave pattern?  Why is its period $\\frac{\\lambda}{2}$ and not $\\lambda$?\n",
    "\n",
    "A standing wave pattern is the sinusoidal pattern caused by the interference of the incident and reflected waves. "
   ]
  },
  {
   "cell_type": "markdown",
   "id": "18d901c0-bec9-44ae-8263-e1d119c51c60",
   "metadata": {},
   "source": [
    "__Review Question 2.9__</br>\n",
    "What is the separation between the location of a voltage maximum and the adjacent current maximum on the line?\n",
    "\n",
    "Voltage standing wave patterns and current standing wave patterns are in phase opposition so their maximums are $\\frac{\\lambda}{4}$ apart."
   ]
  },
  {
   "cell_type": "markdown",
   "id": "c7f49197-7829-4284-a161-c0a94d53d6a5",
   "metadata": {},
   "source": [
    "__Exercise 2.7__</br>\n",
    "A 50 Ohm lossless transmission line is terminated in a load impedance $Z_L = (30-j200)$ Ohm.  Calculate the voltage reflection coefficient at the load.\n",
    "\n",
    "$Z_o = 50$ Ohm\n",
    "$Z_L = (30-j200)$ Ohm\n",
    "\n",
    "$\\Gamma = \\frac {\\frac{Z_L}{Z_o}-1}  {\\frac{Z_L}{Z_o}+1} = \\frac{\\frac{3}{5} -4j }{\\frac{8}{5}-4j} $\n",
    "\n",
    "From page 30, a review of Phasors\n",
    "\n",
    "For $z=x+jy$</br>\n",
    "$|z| = +\\sqrt{zz^*}$</br>\n",
    "$\\Theta = tan^-1 (y/x)$\n",
    "\n",
    "For $\\frac{3}{5}-4j$</br>\n",
    "$|z|=+\\sqrt{(\\frac{3}{5}-4j)(\\frac{8}{5}-4j)}$\n",
    "$= \\sqrt{ \\frac{9}{25} + \\frac{12}{5}j - \\frac{12}{5} j - 16j^2}$\n",
    "$= \\sqrt{\\frac{64}{25} + 16} = 4.308$\n",
    "\n",
    "$\\Theta = tan^{-1}(y/x)$</br>\n",
    "$\\Theta = tan^{-1}$"
   ]
  },
  {
   "cell_type": "markdown",
   "id": "bb8f768d-17bc-4503-9fd6-06541b099c6c",
   "metadata": {},
   "source": [
    "__Exercise 2.8__</br>\n",
    "A 150 $\\Omega$ lossless line is terminated in a capacitor whose impedance is $Z_L = -j30 \\Omega$. Calculate $\\Gamma$."
   ]
  },
  {
   "cell_type": "markdown",
   "id": "8e729dd8-fcf4-4d5e-82e1-e17bc6502437",
   "metadata": {},
   "source": [
    "$Z_o = 150 \\Omega$</br>\n",
    "$Z_L = -j30 \\Omega$</br>\n",
    "\n",
    "$\\Gamma = \\frac{\\frac{Z_L}{Z_o}-1}{\\frac{Z_L}{Z_o}+1} = \\frac{\\frac{-30j}{150}-1}{\\frac{-30j}{150}+1} = \\frac{-1-\\frac{1}{5}j}{1-\\frac{1}{5}j}$\n",
    "\n",
    "For $-1-\\frac{1}{5}$\n",
    "\n",
    "$|V|=\\sqrt{(-1-\\frac{1}{5}j)(-1+\\frac{1}{5}j)} = \\sqrt{(1-\\frac{1}{25}j)}=\\sqrt{\\frac{26}{25}}$\n",
    "\n",
    "$\\Theta = tan^{-1}(y/x) = tan^{-1}(\\frac{\\frac{-1}{5}}{-1})=tan^{-1}(\\frac{1}{5})=11.31$ but since in quadrant 3, add 180 for 191.3</br>\n",
    "\n",
    "For $1-\\frac{1}{5}$\n",
    "$|V|=\\sqrt{(1-\\frac{1}{5}j)(1+\\frac{1}{5}j)} = \\sqrt{\\frac{26}{25}}$</br>\n",
    "\n",
    "$\\Theta = tan^{-1}\\frac{\\frac{-1}{5}}{1}=tan^{-1}(\\frac{-1}{5})=-11.31 $ or $348.7$\n",
    "\n",
    "$\\Gamma = \\frac{ \\sqrt {\\frac{26}{25}}e^{191.3j} } {\\sqrt {\\frac{26}{25}}e^{348.7j}  } = 1\\angle {-157.4}$"
   ]
  },
  {
   "cell_type": "markdown",
   "id": "513cb501-e2f9-4fda-b014-9021f2628372",
   "metadata": {},
   "source": [
    "__Exercise 2.10__ </br>\n",
    "A 140 Ohm lossless line is terminated in a load impedance $Z_L = (280 + j182) Ohm$.  If $\\lambda = 72 cm$, find (a) the reflection coefficient $\\Gamma$, (b)the voltage standing-wave ratio S, (c) the locations of voltage maxima and (d) the locations of voltage minimia. $Z_o$ = 140 Ohm.</br>\n",
    "\n",
    "(a) $\\Gamma = \\frac{Z_L-Z-o)}{Z_L+Z_O}=\\frac{(280+j182)-140}{(280+j182)+140} = \\frac{140+j182}{420+j182}$</br>\n",
    "\n",
    "For $140+j182$</br>\n",
    "$|V| = \\sqrt{(140+j182)(140-j182)} = \\sqrt{140^2-j^2182^2} =  \\sqrt{140^2 + 182^2} = 229.62$</br>\n",
    "$\\Theta = tan^{-1}\\frac({y}{x}) = tan^{-1}\\frac{182}{140} = 52.43$ (Quadrant 1)</br> \n",
    "\n",
    "For $420 + j182$\n",
    "$|V| = \\sqrt{(140+j182)(140-j182)} = \\sqrt{420^2-j^2182^2} =  \\sqrt{140^2 + 182^2} = 457.74$</br>\n",
    "$\\Theta = tan^{-1}\\frac({y}{x}) = tan^{-1}\\frac{182}{420} = 23.43$ (Quadrant 1)</br>\n",
    "\n",
    "$\\frac {229.62\\angle 52.43}{457.74\\angle23.43} = 0.502 \\angle 29 $ \n",
    "\n",
    "(b) $S = \\frac{1+|\\Gamma|}{1-|\\Gamma|}$"
   ]
  },
  {
   "cell_type": "markdown",
   "id": "8644ea43-75a9-4f8a-af3a-fc296f2234f2",
   "metadata": {},
   "source": [
    "__End of Chapter Problems__\n"
   ]
  },
  {
   "cell_type": "markdown",
   "id": "d14bca95-f082-40ee-b95b-15819ca7f214",
   "metadata": {},
   "source": [
    "__Problem 2.1__</br>\n",
    "A transmission line of length l connects a load to a sinusoidal voltage source with an oscillation frequency f. Assuming that the velocity of wave propagation on the line is c, for which of the following situations is it reasonable to ignore tge presence of the transmission line in the solution of the circuit:\n",
    "\n",
    "(a) l= 20 cm, f = 20kHz </br>\n",
    "(b) l= 50 km, f = 60 Hz\n",
    "</br>\n",
    "(c) l= 20 cm, f = 600 MHz\n",
    "</br>\n",
    "(d) l= 1mm, f = 100 GHz\n",
    "</br>"
   ]
  },
  {
   "cell_type": "markdown",
   "id": "57cd9b80-4146-41fa-9789-09d11a537ae8",
   "metadata": {},
   "source": [
    "when $\\frac{l}{\\lambda}$ is very small, transmission line effects may be ignored.\n",
    "\n",
    "$\\mu_p = f \\lambda$, where $\\mu_p = c$</br>\n",
    "\n",
    "(a) $ \\frac{\\lambda f}{\\mu_p}= \\frac{(20x10^-2)(20x10^3)}{3x10^8} = 1.33 x 10^-5$</br>\n",
    "This value is small enough that effects may be ignored</br>\n",
    "(b) $\\frac{(50x10^-3)(60 Hz)}{3x10^8} = 1 ×10^{-8} = .01$ </br>\n",
    "This is the exact value which is the transition point. The book calls this borderline.</br>\n",
    "(c) $\\frac{(20×10^{-2})(600x10^{-6})}{3x10^8} = 0.4$</br>\n",
    "must be considered</br>\n",
    "(d) $\\frac{(1×10-3)(100×10^-9)}{3x10^{-8}}=.33$</br>\n",
    "must be considered</br>\n"
   ]
  },
  {
   "cell_type": "markdown",
   "id": "0779cd12-4244-47c7-967b-ddc155d52ae4",
   "metadata": {},
   "source": [
    "__Problem 2.2__</br>\n",
    "Calculate the line parameters R', L', G' and C' for a coaxial line with an inner conductor diameter of 0.5cm and an outer conductor diameter of 1cm, filled with an insulating material where \n",
    "\n",
    "$\\mu= \\mu_o = 4π×10^{-7}$</br>\n",
    "$\\mu_c = \\mu_o = 4π×10^{-7}$</br>\n",
    "$\\epsilon_r = 4.5$</br>\n",
    "$\\sigma = 10^{-3}$S/m </br>\n",
    "$a = 1 × 10^{-2}$</br>\n",
    "$b = 0.5 x 10^{-2}$</br>\n",
    "\n",
    "$R'= \\frac{R_s}{2π} (\\frac{1}{a} + \\frac{1}{b}) $\n",
    "\n",
    "$R_s = \\sqrt{\\frac{π x 10^{9}(4π×10^{-7})}{5.8x10^{7}}} = .00825$\n",
    "\n",
    "$R' = \\frac{R_s}{2π} (\\frac{1}{10^{-2}} + \\frac{1}{0.5x10^{-2}}) = \\frac{.00825}{2π}(150) = 0.197 \\Omega /m$\n",
    "\n",
    "$L' = \\frac{2π×10^-7}{2π} ln(\\frac{0.5×10{-2}}{1×10^{-2}})= 1.39×10^{-7} H/m$\n",
    "\n",
    "$G' = \\frac{2π\\sigma}{ln(b/a)} =\\frac{10^{-3}}{ln(0.5)} = -9.06×10^{-3} S/m$\n",
    "\n",
    "$C' = \\frac{2π\\epsilon}{ln(b/a)} = $$\\frac{2π×10^{-3}}{ln(0.5)} = -40.79 F/m$"
   ]
  },
  {
   "cell_type": "markdown",
   "id": "4a345c91-d982-45e3-a19b-70f90fc488d4",
   "metadata": {},
   "source": [
    "__Problem 2.3__</br>\n",
    "A 1-GHz parallel-plate transmission line consists of 1.2 cm wide copper strips separated by a 0.15-cm-thick layer of polystyrene.  Appendix B gives $\\mu_c = \\mu_o = 4π×10^{-7} $ H/m and $\\sigma_c = 5.8 × 10^{-7}$ S/m = for  and $\\epsilon_r = 2.6$ for polystyrene.  Use Table 2-1 to determine the line parameters of the transmission line.  Assume that $\\mu = \\mu_o$ and $\\sigma ≈0$ for polystyrene.\n"
   ]
  },
  {
   "cell_type": "markdown",
   "id": "5b9534b5-a19b-4b45-8dc2-8c08fbbd4fb7",
   "metadata": {},
   "source": [
    "For a parallel plate:\n",
    "$R'= \\frac{2R_s}{w}$\n",
    "\n",
    "$R_s = \\sqrt{\\frac{πf\\mu_c}{\\sigma_c}}=  \\sqrt{\\frac{π(1×10^{-9)}(4π×10^{-7})}{5.8×10^7}} = \\sqrt{6.81×10^5}= 0.0165$\n",
    "\n",
    "$R' = \\frac{2×0.0165}{1.2×10^-2} = 1.375$ Ohm/m</br>\n",
    "\n",
    "$L' = \\frac{\\mu d}{w} = \\frac{(4π×10^-7 H/m)(0.15 cm)}{(1.2 cm)} = 1.57 × 10^{-7} = 157 nH/m$\n",
    "\n",
    "$C' = \\frac{\\epsilon w}{d}$</br>\n",
    "$\\epsilon = \\epsilon_o \\epsilon_r = (8.854 × 10^{-12})(2.6) = 23.02 ×10^{-12}$\n",
    "\n",
    "$C' = \\frac{(23.02×10^{-12})(1.2 cm)}{(0.15 cm)} = 184. 163 × 10^{-12} = 184 pF/m$\n",
    "\n",
    "$G' = \\frac{\\sigma w}{d}$</br>\n",
    "$\\sigma = \\sigma_o \\sigma_c$\n",
    "Since $\\sigma_{polystyrene} = 0$\n",
    "$G' = 0$\n"
   ]
  },
  {
   "cell_type": "markdown",
   "id": "afbd0c73-7a2b-4fa5-8030-04a3e3b95aca",
   "metadata": {},
   "source": [
    "__Exercise 2.24 Special Cases__</br>\n",
    "At an operating frequency of 300 MHz, it is desired to use a section of a lossless 50 Ohm transmission line terminated in a short circuit to construct and equivalent load with reactance x = 40 Ohm.  If the phase velocity of the line is 0.75C, what is the shortest possible line length that would exhibit the desired reactance at its input?\n",
    "\n",
    "$\\mu_p = 0.75c = 2.25 x 10^8\\;m/s$</br>\n",
    "$Z_o = 50\\;Ohm$</br>\n",
    "$f = 300MHz = 300 x 10^6\\;Hz$</br>\n",
    "\n",
    "</br>\n",
    "$Z_L = jX_L = 40j$\n",
    "\n",
    "Designing for a matched line with $Z_o = Z_L$\n",
    "\n",
    "\n",
    "\n",
    "$\\beta = \\frac{2\\pi}{\\lambda} = \\frac{2\\pi f}{\\mu_p} = 8.38\\;\\;rad/m$</br>"
   ]
  },
  {
   "cell_type": "markdown",
   "id": "32437552-cebf-42eb-8fd8-8f97b0814eaf",
   "metadata": {},
   "source": [
    "__Review Question 2.10__</br>\n",
    "What is the difference between the characteristic impedance $Z_o$ and the input impedance $Z_in$?  When are they the same?\n",
    "\n",
    "$Z_{in}$ is the voltage to current ratio which varies with position due to standing wave patterns on mismatched lines.\n",
    "\n",
    "$Z_o$ is the characteristic impedance of the line and is the ratio of the voltage amplitude to current amplitude for each of the traveling waves individually.\n",
    "\n",
    "$Z_o = Z_{in}$ for a __matched__ line $Z_L = Z_o$ as the destructive and constructive effects of reflected wave patterns will not affect $Z_{in}$."
   ]
  },
  {
   "cell_type": "markdown",
   "id": "8b724d02-bd99-4193-afef-88d5e76d24db",
   "metadata": {},
   "source": [
    "__Review Question 2.11__\n",
    "What is the quarter-wave transformer? How is it used?\n",
    "\n",
    "A matched-line is when $Z_o = Z_L$, but for a $Z_o$ that does not equal $Z_L$, a $\\frac{\\lambda}{4}$ line can be used to eliminate losses on the feedline, with the power of reflections on the $\\frac{\\lambda}{4}$ line still being transferred to $Z_L$.\n",
    "\n"
   ]
  },
  {
   "cell_type": "markdown",
   "id": "7d29d900-8fca-4521-9021-296c6857dad0",
   "metadata": {},
   "source": [
    "__Review Question 2.12__\n",
    "A lossless transmission line of lenght $l$ is terminated in a short circuit.  If $\\lambda < \\lambda /4 $ is th input impedance inductive or capacitive?\n",
    "\n",
    "$Z_{in}^{sc} = jZ_otan \\beta l$\n",
    "\n",
    "if $tan \\beta l ≥ 0$, line appears inductive\n",
    "if $tan \\beta l ≤ 0$, line appears capacitive\n",
    "\n",
    "$ \\beta l = \\frac{2\\pi}{\\lambda}$\n",
    "\n",
    "For $l = 0$,  $tan 0 = 0$</br>\n",
    "For $l = \\frac{\\lambda}{6}$,  $\\beta l = (\\frac{2\\pi}{\\lambda})(\\frac{\\lambda}{6}) = \\frac{\\pi}{3}$\n",
    "\n",
    "$tan \\beta l = \\frac {sin\\frac{\\pi}{3}} {cos\\frac{\\pi}{3}} = \\frac{\\frac{\\sqrt3}{2}} {\\frac{1}{2}} = \\sqrt{3}$\n",
    "\n",
    "Thus, the line will appear inductive."
   ]
  },
  {
   "cell_type": "code",
   "execution_count": null,
   "id": "c13df8cd-48db-4a73-8099-2f54455d0607",
   "metadata": {},
   "outputs": [],
   "source": []
  },
  {
   "cell_type": "code",
   "execution_count": 1,
   "id": "91e02ee0-07cf-47e5-a786-9fb8d2a696e4",
   "metadata": {
    "execution": {
     "iopub.execute_input": "2023-10-06T19:54:17.756291Z",
     "iopub.status.busy": "2023-10-06T19:54:17.755748Z",
     "iopub.status.idle": "2023-10-06T19:54:17.766794Z",
     "shell.execute_reply": "2023-10-06T19:54:17.765812Z",
     "shell.execute_reply.started": "2023-10-06T19:54:17.756262Z"
    },
    "tags": []
   },
   "outputs": [
    {
     "ename": "SyntaxError",
     "evalue": "invalid syntax (3487827090.py, line 1)",
     "output_type": "error",
     "traceback": [
      "\u001b[0;36m  Cell \u001b[0;32mIn[1], line 1\u001b[0;36m\u001b[0m\n\u001b[0;31m    i need help with paying my graduate application fee\u001b[0m\n\u001b[0m      ^\u001b[0m\n\u001b[0;31mSyntaxError\u001b[0m\u001b[0;31m:\u001b[0m invalid syntax\n"
     ]
    }
   ],
   "source": [
    "i need help with paying my graduate application fee"
   ]
  }
 ],
 "metadata": {
  "kernelspec": {
   "display_name": "saturn (Python 3)",
   "language": "python",
   "name": "python3"
  },
  "language_info": {
   "codemirror_mode": {
    "name": "ipython",
    "version": 3
   },
   "file_extension": ".py",
   "mimetype": "text/x-python",
   "name": "python",
   "nbconvert_exporter": "python",
   "pygments_lexer": "ipython3",
   "version": "3.9.15"
  }
 },
 "nbformat": 4,
 "nbformat_minor": 5
}
