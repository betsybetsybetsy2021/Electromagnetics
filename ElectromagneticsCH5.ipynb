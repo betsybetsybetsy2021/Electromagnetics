{
 "cells": [
  {
   "cell_type": "markdown",
   "id": "924d80c3-52b6-408a-941f-a569d593f4ac",
   "metadata": {},
   "source": [
    "__Electromagnetics Chapter 5__\n",
    "__Exercise 5.6__p.218\n",
    "A semi-infinite linear conductor extends between $z=0$ and $z= \\infty $ along the z-axis.  If the current I in the conductor flows along the positive z-direction, find H at a point in the x-y plane at a radial distance r from the conductor.  \n",
    "\n",
    "Equation 5.27 \n",
    "For an infinite conductor along z-axis\n",
    "$H = \\frac{1}{4πr} (cos\\theta_1 -cos\\theta_2)$\n",
    "\n",
    "From example 2.15 on page 215, in which $\\theta_1$ is defined</br>\n",
    "\n",
    "At $z=0, \\theta_1 = \\frac{π}{2}, cos \\frac{π}{2} = 0$\n",
    "\n",
    "$ cos \\theta_2 = \\frac{-l/2}{\\sqrt{r^2 + (\\frac{l}{2})^2}}$\n",
    "\n",
    "As l approaches $\\infty$, r is negligible\n",
    "\n",
    "$cos \\theta_2 = \\frac{-\\infty/2}{(\\sqrt{(\\infty/2)^2}}= -1$\n",
    "\n",
    "$H = \\frac{1}{4πr} (0-(-1)) = \\frac{1}{4πr}$\n"
   ]
  },
  {
   "cell_type": "markdown",
   "id": "7d260f14-89d7-4e02-9165-7e3c99416ab1",
   "metadata": {},
   "source": [
    "__Exercise 5.7__p.218 </br>\n",
    "A wire carrying a current of 4 A is formed into a circular loop.  If the magnetic field at the center of the loop is 20 A/m, what is the radius of the loop if the loop has (a) only one turn, and (b) 10 turns.\n",
    "\n",
    "(a) \n",
    "\n",
    "$I = 4A$\n",
    "H @ origin (z=0)\n",
    "$H = z\\frac{I}{2a}$ Equation 5.35\n",
    "\n",
    "$20 A/m = z\\frac{4A}{2a}$</br>\n",
    "$a = z\\frac{4A}{2} \\frac{1}{20 A/m} = z\\frac{1}{10} m = 0.1 m = 10 cm$\n",
    "\n",
    "(b)\n",
    "For 10 loops, without any information about the thickness of the loops or distance between turns, I will assume negligible distance between loops when compared to the radius of the loop.  Therefore, integration over the 10 turns can be treated as the sum of the integration over each turn, which is just 10 of the loops in problem (a) or </br>\n",
    "$ 10 * 0.1m = 1m$\n",
    "\n",
    "\n",
    "\n",
    "\n",
    "\n",
    "\n",
    "\n",
    "\n",
    "\n",
    "Del, you'd rather farm Mark with no high school education than develop a non-christian woman in YOUR field?  Remember tarring that caravan roof with Mark in that trailer park.  Mark said, \"me or Del\" and you ignored me completely. I was the one with an EE degree, the one whose father studied in Shiraz.  Those people were NOT my family. Those were thieves.  I have NEVER been married to anyone, although a Muslim man named Sherif spending time with me temporary marriage to justify \"dating\" for himself under his religious beliefs. \n",
    "He is a real person who attended AAST in Egypt and VT in the US.  He is married to an Egyptian woman with a child in Alexandria.\n",
    "\n",
    "We went to therapy together and both therapists said that he couldn't treat me as badly as he did, trying to make me sleep on the floor because someone else might have slept in my bed (even though he had slept in it before) and trying to get me to sell my jewelry because an ex-boyfriend bought it for me. Yelling at me when I picked him up from campus in a place where others could see.\n",
    "\n",
    "That wasn't my college sweetheart, Ibrahim whom I loved but he wanted to marry a muslim woman and have 8 kids, and that was NOT my plan.  Again, not a stereotype, a real person who is a brilliant RF engineer and all around wonderful human.\n",
    "\n",
    "I also don't drink alcohol, except an occasional celebratory toast.  I am NOT the alcoholic woman who stabbed her boyfriend - that was one of my roommates.\n",
    "\n",
    "My dad grew up without a father.  He isn't very handy with tools, otherwise he would have taught me. He took me to father daughter weightlifting classes in fact which I thought was cool. My dad is a wonderful man and very liberal in ideology and conservative in financial aspects.  I am his daughter completely. He did not abuse me in any way - he does not live in New England. My brother also does NOT live in New England. This country blocks all calls to my family.\n",
    "\n",
    "I am not a permanent resident looking for a husband.  I AM a board participant.  Unlike fabricated drug issues, this country gave me much worse.\n",
    "\n",
    "Mark sold my masked voice to organized crime - they take the money intended for my upkeep. No one cares for me or sees to my needs.  There is no bed in any city for me.\n",
    "\n",
    "Because everyone was looking at Mark selling weed and bring the crappy thieving caregiver selling foodstamps, you never built what I needed or a next home for me. He probably was taking food benefits in my name too. I don't drink Pepsi, use Vanilla creamer, or drink orange soda. None of that was for me. The only thing we shared was milk which i also bought. I had a roof over my head by him selling my voice for pennies instead of clearing my name, I could have been earning enough to take care of myself and no one would have to give anything to charity.  but the middlemen and middlewomen who benefitted wouldn't have liked that.\n",
    "I have been trafficked Del by the people you thought were my family.\n",
    "\n",
    "Perhaps your assumption that you knew what was going on and sense of propriety was what kept you from talking to me... but you were right there.\n",
    "\n",
    "I had a hp laptop but had to pawn it to stay in the international AirBnB.  You were with me in 2019... you know I exist.\n",
    "\n",
    "Even the blue cases didn't figure it out.  But they just assumed that everything was as it was supposed to be. I have an idea of how it might go for others, but I know that is not what is happening for me.\n",
    "\n",
    "They built the construction case pipeline for me based on my shipbuilding management experience.  But I have no access there either. "
   ]
  },
  {
   "cell_type": "code",
   "execution_count": 8,
   "id": "0c9f731b-cbca-4f04-b9c8-f3c7cc6896aa",
   "metadata": {
    "execution": {
     "iopub.execute_input": "2023-09-27T21:36:56.011654Z",
     "iopub.status.busy": "2023-09-27T21:36:56.011301Z",
     "iopub.status.idle": "2023-09-27T21:36:56.017545Z",
     "shell.execute_reply": "2023-09-27T21:36:56.016291Z",
     "shell.execute_reply.started": "2023-09-27T21:36:56.011629Z"
    },
    "tags": []
   },
   "outputs": [
    {
     "ename": "SyntaxError",
     "evalue": "invalid syntax (2679815996.py, line 1)",
     "output_type": "error",
     "traceback": [
      "\u001b[0;36m  Cell \u001b[0;32mIn[8], line 1\u001b[0;36m\u001b[0m\n\u001b[0;31m    and yes, I could use help with remembering how Smith chartswork.  last done in 2004. work\u001b[0m\n\u001b[0m    ^\u001b[0m\n\u001b[0;31mSyntaxError\u001b[0m\u001b[0;31m:\u001b[0m invalid syntax\n"
     ]
    }
   ],
   "source": [
    "and yes, I could use help with remembering how Smith chartswork.  last done in 2004. work"
   ]
  },
  {
   "cell_type": "code",
   "execution_count": 3,
   "id": "3aac848a-8ec2-41d5-b9e7-de846e4f59cb",
   "metadata": {
    "execution": {
     "iopub.execute_input": "2023-09-27T21:20:36.834761Z",
     "iopub.status.busy": "2023-09-27T21:20:36.834409Z",
     "iopub.status.idle": "2023-09-27T21:20:36.839871Z",
     "shell.execute_reply": "2023-09-27T21:20:36.838852Z",
     "shell.execute_reply.started": "2023-09-27T21:20:36.834735Z"
    }
   },
   "outputs": [
    {
     "ename": "SyntaxError",
     "evalue": "invalid syntax (3747171550.py, line 1)",
     "output_type": "error",
     "traceback": [
      "\u001b[0;36m  Cell \u001b[0;32mIn[3], line 1\u001b[0;36m\u001b[0m\n\u001b[0;31m    yes, you are holding your current board candidate from DIA\u001b[0m\n\u001b[0m                                                      ^\u001b[0m\n\u001b[0;31mSyntaxError\u001b[0m\u001b[0;31m:\u001b[0m invalid syntax\n"
     ]
    }
   ],
   "source": [
    "yes, you are holding your current board candidate from DIA"
   ]
  },
  {
   "cell_type": "code",
   "execution_count": 7,
   "id": "d749d051-e86b-4c55-b524-ca925cd2871f",
   "metadata": {
    "execution": {
     "iopub.execute_input": "2023-09-27T21:34:36.871625Z",
     "iopub.status.busy": "2023-09-27T21:34:36.871270Z",
     "iopub.status.idle": "2023-09-27T21:34:36.876815Z",
     "shell.execute_reply": "2023-09-27T21:34:36.875597Z",
     "shell.execute_reply.started": "2023-09-27T21:34:36.871599Z"
    },
    "tags": []
   },
   "outputs": [
    {
     "ename": "SyntaxError",
     "evalue": "invalid syntax (3865311801.py, line 1)",
     "output_type": "error",
     "traceback": [
      "\u001b[0;36m  Cell \u001b[0;32mIn[7], line 1\u001b[0;36m\u001b[0m\n\u001b[0;31m    when all other options are exhausted, diplomatic, economic sanctions, etc... we go to war\u001b[0m\n\u001b[0m         ^\u001b[0m\n\u001b[0;31mSyntaxError\u001b[0m\u001b[0;31m:\u001b[0m invalid syntax\n"
     ]
    }
   ],
   "source": [
    "when all other options are exhausted, diplomatic, economic sanctions, etc... we go to war"
   ]
  },
  {
   "cell_type": "code",
   "execution_count": 10,
   "id": "671960c6-8055-4137-a74f-6a013aa16a50",
   "metadata": {
    "execution": {
     "iopub.execute_input": "2023-09-27T22:00:57.629702Z",
     "iopub.status.busy": "2023-09-27T22:00:57.629348Z",
     "iopub.status.idle": "2023-09-27T22:00:57.635229Z",
     "shell.execute_reply": "2023-09-27T22:00:57.633847Z",
     "shell.execute_reply.started": "2023-09-27T22:00:57.629678Z"
    }
   },
   "outputs": [
    {
     "ename": "SyntaxError",
     "evalue": "invalid syntax (2036622833.py, line 1)",
     "output_type": "error",
     "traceback": [
      "\u001b[0;36m  Cell \u001b[0;32mIn[10], line 1\u001b[0;36m\u001b[0m\n\u001b[0;31m    they lie\u001b[0m\n\u001b[0m         ^\u001b[0m\n\u001b[0;31mSyntaxError\u001b[0m\u001b[0;31m:\u001b[0m invalid syntax\n"
     ]
    }
   ],
   "source": [
    "they lie"
   ]
  },
  {
   "cell_type": "code",
   "execution_count": null,
   "id": "4eb4ff7c-de10-4d42-890c-2c6eeb632ea1",
   "metadata": {},
   "outputs": [],
   "source": []
  }
 ],
 "metadata": {
  "kernelspec": {
   "display_name": "saturn (Python 3)",
   "language": "python",
   "name": "python3"
  },
  "language_info": {
   "codemirror_mode": {
    "name": "ipython",
    "version": 3
   },
   "file_extension": ".py",
   "mimetype": "text/x-python",
   "name": "python",
   "nbconvert_exporter": "python",
   "pygments_lexer": "ipython3",
   "version": "3.9.15"
  }
 },
 "nbformat": 4,
 "nbformat_minor": 5
}
